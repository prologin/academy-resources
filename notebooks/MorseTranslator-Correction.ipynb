{
 "cells": [
  {
   "cell_type": "markdown",
   "metadata": {},
   "source": [
    "### Notions importantes pour faire ce projet\n",
    "\n",
    "* dictionnaires\n",
    "* {}.get(key, default)\n",
    "* str.split(delimiter)\n",
    "* str.strip()"
   ]
  },
  {
   "cell_type": "code",
   "execution_count": null,
   "metadata": {},
   "outputs": [],
   "source": [
    "MORSE_CODE = {\n",
    "    'A': '.-',   'B': '-...', 'C': '-.-.', \n",
    "    'D': '-..',  'E': '.',    'F': '..-.',\n",
    "    'G': '--.',  'H': '....', 'I': '..',\n",
    "    'J': '.---', 'K': '-.-',  'L': '.-..',\n",
    "    'M': '--',   'N': '-.',   'O': '---',\n",
    "    'P': '.--.', 'Q': '--.-', 'R': '.-.',\n",
    "    'S': '...',  'T': '-',    'U': '..-',\n",
    "    'V': '...-', 'W': '.--',  'X': '-..-',\n",
    "    'Y': '-.--', 'Z': '--..',\n",
    "\n",
    "    '0': '-----', '1': '.----', '2': '..---',\n",
    "    '3': '...--', '4': '....-', '5': '.....',\n",
    "    '6': '-....', '7': '--...', '8': '---..',\n",
    "    '9': '----.',\n",
    "\n",
    "    ',': '--..--', '.': '.-.-.-',  '?': '..--..',\n",
    "    '/': '-..-.',   '-': '-....-', '(': '-.--.',\n",
    "    ')': '-.--.-',  ' ': '/',      '!': '-.-.--'\n",
    "}"
   ]
  },
  {
   "cell_type": "code",
   "execution_count": null,
   "metadata": {},
   "outputs": [],
   "source": [
    "# TRANSLATE TEXT INTO MORSE\n",
    "\n",
    "# Basic way\n",
    "\n",
    "def to_morse(msg: str) -> str:\n",
    "    msg = msg.upper()\n",
    "    encoded = ''\n",
    "    for letter in msg:\n",
    "        encoded += MORSE_CODE.get(letter, '???') + ' '\n",
    "    return encoded.strip()\n",
    "\n",
    "\n",
    "# Pythonic way\n",
    "\n",
    "def to_morse_2(msg: str) -> str:\n",
    "    return ' '.join(MORSE_CODE.get(letter, '???') for letter in msg.upper())"
   ]
  },
  {
   "cell_type": "code",
   "execution_count": null,
   "metadata": {},
   "outputs": [],
   "source": [
    "print(to_morse_2('hello'))\n",
    "print(to_morse_2('hello, I love Python!'))\n",
    "assert to_morse('hello') == '.... . .-.. .-.. ---'\n",
    "assert to_morse('hello, I love Python!') == '.... . .-.. .-.. --- --..-- / .. / .-.. --- ...- . / .--. -.-- - .... --- -. -.-.--'"
   ]
  },
  {
   "cell_type": "code",
   "execution_count": null,
   "metadata": {},
   "outputs": [],
   "source": [
    "# GET REVERSE MORSE CODE\n",
    "\n",
    "# Basic way\n",
    "\n",
    "def get_reverse_morse_code() -> {str: str}:\n",
    "    reverse_morse = {}\n",
    "    \n",
    "    for key, value in MORSE_CODE.items():\n",
    "        reverse_morse[value] = key\n",
    "    return reverse_morse\n",
    "\n",
    "\n",
    "# Pythonic way\n",
    "\n",
    "def get_reverse_morse_code_2() -> {str: str}:\n",
    "    return {value:key for key,value in MORSE_CODE.items()}"
   ]
  },
  {
   "cell_type": "code",
   "execution_count": null,
   "metadata": {},
   "outputs": [],
   "source": [
    "REVERSED_CODE = get_reverse_morse_code()\n",
    "print(REVERSED_CODE)"
   ]
  },
  {
   "cell_type": "code",
   "execution_count": null,
   "metadata": {},
   "outputs": [],
   "source": [
    "# TRANSLATE MORSE INTO TEXT\n",
    "\n",
    "# Basic way\n",
    "\n",
    "def from_morse(msg: str) -> str:\n",
    "    msg = msg.upper()\n",
    "    decoded = ''\n",
    "    words = msg.split('/')\n",
    "    \n",
    "    for word in words:\n",
    "        word = word.strip()\n",
    "        letters = word.split()\n",
    "        for letter in letters:\n",
    "            decoded += REVERSED_CODE.get(letter, '???')\n",
    "        decoded += ' '\n",
    "    \n",
    "    return decoded\n",
    "\n",
    "# Pythonic way\n",
    "\n",
    "def from_morse(msg: str) -> str:\n",
    "    return ''.join(REVERSED_CODE.get(car, '???') for car in msg.split())"
   ]
  },
  {
   "cell_type": "code",
   "execution_count": null,
   "metadata": {},
   "outputs": [],
   "source": [
    "print(from_morse('.... . .-.. .-.. ---'))\n",
    "print(from_morse('.... . .-.. .-.. --- --..-- / .. / .-.. --- ...- . / .--. -.-- - .... --- -. -.-.--'))\n",
    "print(from_morse('-... .-. .- ...- --- / -.-.-- / ...- --- ..- ... / .- ...- . --.. / ..-. .. -. .. / -.-.--'))"
   ]
  },
  {
   "cell_type": "code",
   "execution_count": null,
   "metadata": {},
   "outputs": [],
   "source": [
    "ALLOWED_CMDS = ['encode', 'decode', 'quit', 'help']\n",
    "PROMPT = '>>> '\n",
    "while True:\n",
    "    cmd = input(PROMPT)\n",
    "    if cmd not in ALLOWED_CMDS:\n",
    "        print('Invalid command')\n",
    "        continue\n",
    "        \n",
    "    if cmd == 'encode':\n",
    "        print(to_morse(input(\"Enter message to encode: \")))\n",
    "        \n",
    "    elif cmd == 'decode':\n",
    "        print(from_morse(input(\"Enter morse to decode: \")))\n",
    "        \n",
    "    elif cmd == 'help':\n",
    "        print('Allowed commands: ', end='')\n",
    "        print(' '.join(ALLOWED_CMDS))\n",
    "        \n",
    "    else: # if cmd == 'quit'\n",
    "        break"
   ]
  }
 ],
 "metadata": {
  "kernelspec": {
   "display_name": "Python 3",
   "language": "python",
   "name": "python3"
  },
  "language_info": {
   "codemirror_mode": {
    "name": "ipython",
    "version": 3
   },
   "file_extension": ".py",
   "mimetype": "text/x-python",
   "name": "python",
   "nbconvert_exporter": "python",
   "pygments_lexer": "ipython3",
   "version": "3.8.3"
  }
 },
 "nbformat": 4,
 "nbformat_minor": 4
}
