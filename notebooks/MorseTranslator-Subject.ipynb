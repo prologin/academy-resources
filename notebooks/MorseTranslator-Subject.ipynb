{
 "cells": [
  {
   "cell_type": "code",
   "execution_count": null,
   "metadata": {},
   "outputs": [],
   "source": [
    "MORSE_CODE = {\n",
    "    'A': '.-',   'B': '-...', 'C': '-.-.', \n",
    "    'D': '-..',  'E': '.',    'F': '..-.',\n",
    "    'G': '--.',  'H': '....', 'I': '..',\n",
    "    'J': '.---', 'K': '-.-',  'L': '.-..',\n",
    "    'M': '--',   'N': '-.',   'O': '---',\n",
    "    'P': '.--.', 'Q': '--.-', 'R': '.-.',\n",
    "    'S': '...',  'T': '-',    'U': '..-',\n",
    "    'V': '...-', 'W': '.--',  'X': '-..-',\n",
    "    'Y': '-.--', 'Z': '--..',\n",
    "\n",
    "    '0': '-----', '1': '.----', '2': '..---',\n",
    "    '3': '...--', '4': '....-', '5': '.....',\n",
    "    '6': '-....', '7': '--...', '8': '---..',\n",
    "    '9': '----.',\n",
    "\n",
    "    ',': '--..--', '.': '.-.-.-',  '?': '..--..',\n",
    "    '/': '-..-.',   '-': '-....-', '(': '-.--.',\n",
    "    ')': '-.--.-',  ' ': '/',      '!': '-.-.--'\n",
    "}"
   ]
  },
  {
   "cell_type": "code",
   "execution_count": null,
   "metadata": {},
   "outputs": [],
   "source": [
    "# TRANSLATE TEXT INTO MORSE\n",
    "\n",
    "# Implementez une fonction qui prend une chaine de caractere (le message) en argument\n",
    "# et retourne une chaine de caractere (le morse).\n",
    "\n",
    "def to_morse(msg):\n",
    "    pass"
   ]
  },
  {
   "cell_type": "code",
   "execution_count": null,
   "metadata": {},
   "outputs": [],
   "source": [
    "print(to_morse('hello'))\n",
    "print(to_morse('hello, I love Python!'))\n",
    "assert to_morse('hello') == '.... . .-.. .-.. ---'\n",
    "assert to_morse('hello, I love Python!') == '.... . .-.. .-.. --- --..-- / .. / .-.. --- ...- . / .--. -.-- - .... --- -. -.-.--'"
   ]
  },
  {
   "cell_type": "code",
   "execution_count": null,
   "metadata": {},
   "outputs": [],
   "source": [
    "# GET REVERSE MORSE CODE\n",
    "\n",
    "# Implementez une fonction qui transforme un dictionnaire en une copie de lui-meme\n",
    "# mais avec les clefs et valeurs inversees ! {key: value} devient {value: key}\n",
    "\n",
    "def get_reverse_morse_code():\n",
    "    pass"
   ]
  },
  {
   "cell_type": "code",
   "execution_count": null,
   "metadata": {},
   "outputs": [],
   "source": [
    "REVERSED_CODE = get_reverse_morse_code()\n",
    "print(REVERSED_CODE)"
   ]
  },
  {
   "cell_type": "code",
   "execution_count": null,
   "metadata": {},
   "outputs": [],
   "source": [
    "# TRANSLATE MORSE INTO TEXT\n",
    "\n",
    "# Implementez une fonction qui prend une chaine de caractere (le morse) en argument\n",
    "# et retourne une chaine de caractere (le texte traduit).\n",
    "\n",
    "def from_morse(msg):\n",
    "    pass"
   ]
  },
  {
   "cell_type": "code",
   "execution_count": null,
   "metadata": {},
   "outputs": [],
   "source": [
    "print(from_morse('.... . .-.. .-.. ---'))\n",
    "print(from_morse('.... . .-.. .-.. --- --..-- / -- -.-- / -. .- -- . / .. ... / - .- -. --. ..- -.--'))\n",
    "print(from_morse('-... .-. .- ...- --- / -.-.-- / ...- --- ..- ... / .- ...- . --.. / ..-. .. -. .. / -.-.--'))"
   ]
  },
  {
   "cell_type": "markdown",
   "metadata": {},
   "source": [
    "Si vous avez fini, vous pouvez essayer d'implementer une CLI (Command Line Interface).\n",
    "C'est un bout de code qui permet de demander a l'utilisateur ce qu'il souhaite faire :\n",
    "ici cela peut etre encoder un message en morse ou decoder du morse.\n",
    "En fonction de sa reponse, appelez la fonction correcte et affichez le resultat.\n",
    "Vous pouvez faire en sorte que votre programme tourne en boucle et demande a l'utilisateur ce qu'il veut faire\n",
    "jusqu'a ce qu'il decide de quitter en tapant une commande particuliere."
   ]
  },
  {
   "cell_type": "code",
   "execution_count": null,
   "metadata": {},
   "outputs": [],
   "source": [
    "# Implementez la CLI juste ici !"
   ]
  }
 ],
 "metadata": {
  "kernelspec": {
   "display_name": "Python 3",
   "language": "python",
   "name": "python3"
  },
  "language_info": {
   "codemirror_mode": {
    "name": "ipython",
    "version": 3
   },
   "file_extension": ".py",
   "mimetype": "text/x-python",
   "name": "python",
   "nbconvert_exporter": "python",
   "pygments_lexer": "ipython3",
   "version": "3.8.3"
  }
 },
 "nbformat": 4,
 "nbformat_minor": 4
}
