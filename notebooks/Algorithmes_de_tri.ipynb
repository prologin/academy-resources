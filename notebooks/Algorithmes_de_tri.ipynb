{
 "cells": [
  {
   "cell_type": "code",
   "execution_count": null,
   "metadata": {},
   "outputs": [],
   "source": [
    "import numpy as np"
   ]
  },
  {
   "cell_type": "markdown",
   "metadata": {},
   "source": [
    "# SELECTION SORT - TRI PAR SELECTION"
   ]
  },
  {
   "cell_type": "code",
   "execution_count": null,
   "metadata": {},
   "outputs": [],
   "source": [
    "def selection_sort(array):\n",
    "    length = len(array)\n",
    "\n",
    "    for i in range(length):\n",
    "        min_pos = i\n",
    "        \n",
    "        for j in range(i + 1, length):\n",
    "            if array[min_pos] > array[j]:\n",
    "                min_pos = j\n",
    "\n",
    "        array[i], array[min_pos] = array[min_pos], array[i]"
   ]
  },
  {
   "cell_type": "code",
   "execution_count": null,
   "metadata": {},
   "outputs": [],
   "source": [
    "# TESTER NOTRE TRI PAR SELECTION\n",
    "\n",
    "print('===== SELECTION SORT TESTS =====')\n",
    "\n",
    "L = np.random.randint(1, 100, 20)\n",
    "print(L)\n",
    "selection_sort(L)\n",
    "print(L)\n",
    "\n",
    "print()"
   ]
  },
  {
   "cell_type": "markdown",
   "metadata": {},
   "source": [
    "# BUBBLE SORT - TRI A BULLES"
   ]
  },
  {
   "cell_type": "code",
   "execution_count": null,
   "metadata": {},
   "outputs": [],
   "source": [
    "def bubble_sort(array):\n",
    "    length = len(array)\n",
    "    \n",
    "    for i in range(length):\n",
    "        already_sorted = True\n",
    "        \n",
    "        for j in range(length - i - 1):\n",
    "            if array[j] > array[j + 1]:\n",
    "                array[j], array[j + 1] = array[j + 1], array[j]\n",
    "                already_sorted = False\n",
    "\n",
    "        if already_sorted:\n",
    "            break"
   ]
  },
  {
   "cell_type": "code",
   "execution_count": null,
   "metadata": {},
   "outputs": [],
   "source": [
    "# TESTER NOTRE TRI A BULLES\n",
    "\n",
    "print('===== BUBBLE SORT TESTS =====')\n",
    "\n",
    "L = np.random.randint(1, 100, 20)\n",
    "print(L)\n",
    "bubble_sort(L)\n",
    "print(L)\n",
    "\n",
    "print()"
   ]
  },
  {
   "cell_type": "markdown",
   "metadata": {},
   "source": [
    "# INSERTION SORT - TRI PAR INSERTION"
   ]
  },
  {
   "cell_type": "code",
   "execution_count": null,
   "metadata": {},
   "outputs": [],
   "source": [
    "def insertion_sort(array):\n",
    "    length = len(array)\n",
    "\n",
    "    for i in range(1, length):\n",
    "        key_item = array[i]\n",
    "        j = i - 1\n",
    "\n",
    "        while j >= 0 and array[j] > key_item:\n",
    "            array[j + 1] = array[j]\n",
    "            j -= 1\n",
    "\n",
    "        array[j + 1] = key_item"
   ]
  },
  {
   "cell_type": "code",
   "execution_count": null,
   "metadata": {},
   "outputs": [],
   "source": [
    "# TESTER NOTRE TRI PAR INSERTION\n",
    "\n",
    "print('===== INSERTION SORT TESTS =====')\n",
    "\n",
    "L = np.random.randint(1, 100, 20)\n",
    "print(L)\n",
    "insertion_sort(L)\n",
    "print(L)\n",
    "\n",
    "print()"
   ]
  },
  {
   "cell_type": "markdown",
   "metadata": {},
   "source": [
    "# MERGE SORT - TRI PAR FUSION"
   ]
  },
  {
   "cell_type": "code",
   "execution_count": null,
   "metadata": {},
   "outputs": [],
   "source": [
    "def merge_sort(array):\n",
    "    if len(array) < 2:\n",
    "        return\n",
    "    \n",
    "    mid = len(array) // 2\n",
    "    left_half = array[:mid]\n",
    "    right_half = array[mid:]\n",
    "\n",
    "    merge_sort(left_half)\n",
    "    merge_sort(right_half)\n",
    "    \n",
    "    index_left = 0\n",
    "    index_right = 0\n",
    "    index_result = 0\n",
    "        \n",
    "    while index_left < len(left_half) and index_right < len(right_half):\n",
    "        \n",
    "        if left_half[index_left] < right_half[index_right]:\n",
    "            array[index_result] = left_half[index_left]\n",
    "            index_left = index_left + 1\n",
    "        else:\n",
    "            array[index_result] = right_half[index_right]\n",
    "            index_right = index_right + 1\n",
    "            \n",
    "        index_result = index_result + 1\n",
    "\n",
    "    while index_left < len(left_half):\n",
    "        array[index_result] = left_half[index_left]\n",
    "        index_left = index_left + 1\n",
    "        index_result = index_result + 1\n",
    "\n",
    "    while index_right < len(right_half):\n",
    "        array[index_result] = right_half[index_right]\n",
    "        index_right = index_right + 1\n",
    "        index_result = index_result + 1"
   ]
  },
  {
   "cell_type": "code",
   "execution_count": null,
   "metadata": {},
   "outputs": [],
   "source": [
    "# TESTER NOTRE TRI PAR FUSION\n",
    "\n",
    "print('===== MERGE SORT TESTS =====')\n",
    "\n",
    "L = np.random.randint(1, 100, 20)\n",
    "L = [3, 12, 4, 5, 1, 42]\n",
    "print(L)\n",
    "merge_sort(L)\n",
    "print(L)\n",
    "\n",
    "print()"
   ]
  },
  {
   "cell_type": "markdown",
   "metadata": {},
   "source": [
    "# QUICK SORT - TRI RAPIDE"
   ]
  },
  {
   "cell_type": "code",
   "execution_count": null,
   "metadata": {},
   "outputs": [],
   "source": [
    "def partition(array, start, end):\n",
    "    pivot = array[start]\n",
    "    low = start + 1\n",
    "    high = end\n",
    "\n",
    "    while True:\n",
    "        \n",
    "        while low <= high and array[high] >= pivot:\n",
    "            high = high - 1\n",
    "\n",
    "        while low <= high and array[low] <= pivot:\n",
    "            low = low + 1\n",
    "\n",
    "        if low <= high:\n",
    "            array[low], array[high] = array[high], array[low]\n",
    "        else:\n",
    "            break\n",
    "\n",
    "    array[start], array[high] = array[high], array[start]\n",
    "\n",
    "    return high\n",
    "\n",
    "\n",
    "def __quick_sort(array, start, end):\n",
    "    if start >= end:\n",
    "        return\n",
    "\n",
    "    p = partition(array, start, end)\n",
    "    __quick_sort(array, start, p - 1)\n",
    "    __quick_sort(array, p + 1, end)\n",
    "\n",
    "    \n",
    "def quick_sort(array):\n",
    "    __quick_sort(array, 0, len(array) - 1)"
   ]
  },
  {
   "cell_type": "code",
   "execution_count": null,
   "metadata": {},
   "outputs": [],
   "source": [
    "# TESTER NOTRE TRI RAPIDE\n",
    "\n",
    "print('===== QUICK SORT TESTS =====')\n",
    "\n",
    "L = np.random.randint(1, 100, 20)\n",
    "print(L)\n",
    "quick_sort(L)\n",
    "print(L)\n",
    "\n",
    "print()"
   ]
  },
  {
   "cell_type": "markdown",
   "metadata": {},
   "source": [
    "# PIGEONHOLE SORT - TRI PAR TROU DE PIGEON"
   ]
  },
  {
   "cell_type": "code",
   "execution_count": null,
   "metadata": {},
   "outputs": [],
   "source": [
    "def pigeonhole_sort(array):  \n",
    "    my_min = min(array)\n",
    "    my_max = max(array)\n",
    "    size = my_max - my_min + 1\n",
    "    holes = [0] * size\n",
    "  \n",
    "    for x in array:\n",
    "        holes[x - my_min] += 1\n",
    "  \n",
    "    i = 0\n",
    "    \n",
    "    for count in range(size):\n",
    "        while holes[count] > 0:\n",
    "            holes[count] -= 1\n",
    "            array[i] = count + my_min\n",
    "            i += 1"
   ]
  },
  {
   "cell_type": "code",
   "execution_count": null,
   "metadata": {},
   "outputs": [],
   "source": [
    "# TESTER NOTRE TRI PAR TROU DE PIGEON\n",
    "\n",
    "print('===== PIGEONHOLE SORT TESTS =====')\n",
    "\n",
    "L = np.random.randint(1, 100, 20)\n",
    "print(L)\n",
    "pigeonhole_sort(L)\n",
    "print(L)\n",
    "\n",
    "print()"
   ]
  },
  {
   "cell_type": "markdown",
   "metadata": {},
   "source": [
    "#    BENCHMARKING SORTING ALGORITHMS"
   ]
  },
  {
   "cell_type": "code",
   "execution_count": null,
   "metadata": {},
   "outputs": [],
   "source": [
    "import random as rd\n",
    "import time\n",
    "\n",
    "SMALL_LENGTH = 200\n",
    "BIG_LENGTH = 2000\n",
    "\n",
    "def benchmark(sort_func, array):\n",
    "    start = time.time()\n",
    "    sort_func(array)\n",
    "    end = time.time()\n",
    "    print(f'{sort_func.__name__} finished in {end - start} seconds.')\n",
    "\n",
    "\n",
    "small_zeros = [0] * SMALL_LENGTH\n",
    "big_zeros = [0] * BIG_LENGTH\n",
    "small_random = np.random.randint(1, 100, SMALL_LENGTH)\n",
    "big_random = np.random.randint(1, 100, BIG_LENGTH)\n",
    "\n",
    "sorts = [selection_sort, bubble_sort, insertion_sort,\n",
    "         quick_sort, pigeonhole_sort]\n",
    "\n",
    "\n",
    "print('Testing for small array of zeros')\n",
    "faster = sorts[0]\n",
    "for sort_func in sorts:\n",
    "    benchmark(sort_func, np.copy(small_zeros))\n",
    "print()\n",
    "\n",
    "print('Testing for big array of zeros')\n",
    "for sort_func in sorts:\n",
    "    benchmark(sort_func, np.copy(big_zeros))\n",
    "print()\n",
    "\n",
    "print('Testing for small array of random numbers')\n",
    "for sort_func in sorts:\n",
    "    benchmark(sort_func, np.copy(small_random))\n",
    "print()\n",
    "\n",
    "print('Testing for big array of random numbers')\n",
    "for sort_func in sorts:\n",
    "    benchmark(sort_func, np.copy(big_random))"
   ]
  },
  {
   "cell_type": "markdown",
   "metadata": {},
   "source": [
    "# Animations pour mieux visualiser\n",
    "\n",
    "épileptiques faites attention, ca va vite et c'est lumineux !\n",
    "\n",
    "https://www.youtube.com/watch?v=kPRA0W1kECg"
   ]
  }
 ],
 "metadata": {
  "kernelspec": {
   "display_name": "Python 3",
   "language": "python",
   "name": "python3"
  },
  "language_info": {
   "codemirror_mode": {
    "name": "ipython",
    "version": 3
   },
   "file_extension": ".py",
   "mimetype": "text/x-python",
   "name": "python",
   "nbconvert_exporter": "python",
   "pygments_lexer": "ipython3",
   "version": "3.8.3"
  }
 },
 "nbformat": 4,
 "nbformat_minor": 4
}
